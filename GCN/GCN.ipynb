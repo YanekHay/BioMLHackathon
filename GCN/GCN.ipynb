{
 "cells": [
  {
   "cell_type": "code",
   "execution_count": 1,
   "metadata": {},
   "outputs": [],
   "source": [
    "import torch\n",
    "from rdkit import Chem\n",
    "from rdkit.Chem import rdmolops\n",
    "from torch_geometric.data import Data\n",
    "from model import GCNModel\n",
    "from pathlib import Path\n",
    "import numpy as np\n",
    "import pandas as pd"
   ]
  },
  {
   "cell_type": "code",
   "execution_count": 4,
   "metadata": {},
   "outputs": [],
   "source": [
    "# Node features (atom features)\n",
    "def get_atom_features(atom):\n",
    "    return [\n",
    "        atom.GetMass(),                  # Atomic mass\n",
    "        atom.GetAtomicNum(),             # Atomic number\n",
    "        atom.GetDegree(),                # Degree (number of bonded neighbors)\n",
    "        atom.GetTotalDegree(),\n",
    "        atom.GetTotalNumHs(),            # Number of hydrogen atoms attached\n",
    "        atom.GetImplicitValence(),       # Implicit valence\n",
    "        atom.GetFormalCharge(),          # Formal charge\n",
    "        int(atom.GetHybridization()),       # Is hydrogen\n",
    "        int(atom.GetIsAromatic()),        # Aromaticity\n",
    "        atom.GetNumRadicalElectrons(),   # Number of radical electrons\n",
    "        atom.GetNumImplicitHs(),         # Number of implicit hydrogens\n",
    "        atom.GetNumExplicitHs(),         # Number of explicit hydrogens\n",
    "    ]\n",
    "\n",
    "def get_bond_features(bond):\n",
    "    return [\n",
    "        bond.GetBondTypeAsDouble(),\n",
    "        int(bond.IsInRing()),\n",
    "        int(bond.GetIsAromatic()),\n",
    "        int(bond.GetIsConjugated())\n",
    "    ]\n"
   ]
  },
  {
   "cell_type": "code",
   "execution_count": 2,
   "metadata": {},
   "outputs": [],
   "source": [
    "data_root = Path(\"../data\")\n",
    "weights_path = Path(\"./weights\")\n",
    "train_file_path = data_root / \"train.csv\"\n",
    "test_file_path = data_root / \"test.csv\"\n",
    "output_file_path = data_root / \"submission.csv\"\n",
    "\n",
    "device = \"cuda\" if torch.cuda.is_available() else \"cpu\"\n",
    "\n",
    "train = pd.read_csv(train_file_path)\n",
    "test = pd.read_csv(test_file_path)\n",
    "submission = test.copy()\n",
    "submission.drop(columns=[\"smiles\"], inplace=True)"
   ]
  },
  {
   "cell_type": "code",
   "execution_count": 37,
   "metadata": {},
   "outputs": [],
   "source": [
    "def make_graph_data(smiles: str, device='cuda'):\n",
    "    # Convert SMILES to RDKit molecule object\n",
    "    molecule = Chem.MolFromSmiles(smiles)\n",
    "    # Check if molecule conversion was successful\n",
    "    if molecule is None:\n",
    "        raise ValueError(\"Invalid SMILES string\")\n",
    "        # Build node features\n",
    "    node_features = [get_atom_features(atom) for atom in molecule.GetAtoms()]\n",
    "    node_features = torch.tensor(node_features, dtype=torch.float, device=device)\n",
    "\n",
    "    # Edge indices and edge features\n",
    "    edges = []\n",
    "    edge_features = []\n",
    "    for bond in molecule.GetBonds():\n",
    "        i = bond.GetBeginAtomIdx()\n",
    "        j = bond.GetEndAtomIdx()\n",
    "        edges.append((i, j))\n",
    "        edge_features.append(get_bond_features(bond))\n",
    "\n",
    "    # Convert edge list and edge features to tensors\n",
    "    edge_index = torch.tensor(edges, dtype=torch.long, device=device).t().contiguous()\n",
    "    edge_attr = torch.tensor(edge_features, dtype=torch.float, device=device)\n",
    "    # Create PyTorch Geometric data object\n",
    "    return Data(x=node_features, edge_index=edge_index, edge_attr=edge_attr)\n",
    "\n",
    "\n",
    "class MoleculeDataset(torch.utils.data.Dataset):\n",
    "    def __init__(self, df:pd.DataFrame, device='cuda'):\n",
    "        self.df = df\n",
    "        self.device = device\n",
    "\n",
    "    def __len__(self):\n",
    "        return len(self.df)\n",
    "\n",
    "    def __getitem__(self, idx):\n",
    "        graph_data = make_graph_data(self.df['smiles'][idx], device=self.device)\n",
    "        label = torch.tensor(self.df['activity'][idx], dtype=torch.float, device=self.device)\n",
    "        return graph_data, label"
   ]
  },
  {
   "cell_type": "code",
   "execution_count": 38,
   "metadata": {},
   "outputs": [],
   "source": [
    "dataset = MoleculeDataset(train)\n",
    "dataloader = torch.utils.data.DataLoader(dataset, batch_size=32, shuffle=True)"
   ]
  },
  {
   "cell_type": "code",
   "execution_count": 26,
   "metadata": {},
   "outputs": [
    {
     "ename": "NameError",
     "evalue": "name 'node_features' is not defined",
     "output_type": "error",
     "traceback": [
      "\u001b[1;31m---------------------------------------------------------------------------\u001b[0m",
      "\u001b[1;31mNameError\u001b[0m                                 Traceback (most recent call last)",
      "Cell \u001b[1;32mIn[26], line 2\u001b[0m\n\u001b[0;32m      1\u001b[0m \u001b[38;5;66;03m# Example model instantiation\u001b[39;00m\n\u001b[1;32m----> 2\u001b[0m model \u001b[38;5;241m=\u001b[39m GCNModel(in_channels\u001b[38;5;241m=\u001b[39m\u001b[43mnode_features\u001b[49m\u001b[38;5;241m.\u001b[39mshape[\u001b[38;5;241m1\u001b[39m], hidden_channels\u001b[38;5;241m=\u001b[39m\u001b[38;5;241m32\u001b[39m, out_channels\u001b[38;5;241m=\u001b[39m\u001b[38;5;241m1\u001b[39m)\n",
      "\u001b[1;31mNameError\u001b[0m: name 'node_features' is not defined"
     ]
    }
   ],
   "source": [
    "# Example model instantiation\n",
    "model = GCNModel(in_channels=dataset[0][0].x.shape[1], hidden_channels=32, out_channels=1)"
   ]
  },
  {
   "cell_type": "code",
   "execution_count": 74,
   "metadata": {},
   "outputs": [
    {
     "name": "stdout",
     "output_type": "stream",
     "text": [
      "torch.Size([15, 1])\n"
     ]
    },
    {
     "data": {
      "text/plain": [
       "tensor([[0.],\n",
       "        [0.],\n",
       "        [0.],\n",
       "        [0.],\n",
       "        [0.],\n",
       "        [0.],\n",
       "        [0.],\n",
       "        [0.],\n",
       "        [0.],\n",
       "        [0.],\n",
       "        [0.],\n",
       "        [0.],\n",
       "        [0.],\n",
       "        [0.],\n",
       "        [0.]], grad_fn=<LogSoftmaxBackward0>)"
      ]
     },
     "execution_count": 74,
     "metadata": {},
     "output_type": "execute_result"
    }
   ],
   "source": [
    "model(data)"
   ]
  }
 ],
 "metadata": {
  "kernelspec": {
   "display_name": "bioml",
   "language": "python",
   "name": "python3"
  },
  "language_info": {
   "codemirror_mode": {
    "name": "ipython",
    "version": 3
   },
   "file_extension": ".py",
   "mimetype": "text/x-python",
   "name": "python",
   "nbconvert_exporter": "python",
   "pygments_lexer": "ipython3",
   "version": "3.10.0"
  }
 },
 "nbformat": 4,
 "nbformat_minor": 2
}
